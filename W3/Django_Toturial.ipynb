{
 "cells": [
  {
   "cell_type": "code",
   "execution_count": 1,
   "id": "encouraging-second",
   "metadata": {},
   "outputs": [],
   "source": [
    "from news.models import Article, User, Author, Person, A"
   ]
  },
  {
   "cell_type": "code",
   "execution_count": null,
   "id": "united-planning",
   "metadata": {},
   "outputs": [],
   "source": [
    "user1 = User.objects.get(username=\"ashkan\")"
   ]
  },
  {
   "cell_type": "code",
   "execution_count": null,
   "id": "compound-legislation",
   "metadata": {},
   "outputs": [],
   "source": [
    "user1.address = \"تهران خیابان امداد غربی پلاک 5\""
   ]
  },
  {
   "cell_type": "code",
   "execution_count": null,
   "id": "composite-tender",
   "metadata": {},
   "outputs": [],
   "source": [
    "user1.save()"
   ]
  },
  {
   "cell_type": "code",
   "execution_count": null,
   "id": "signed-paste",
   "metadata": {},
   "outputs": [],
   "source": [
    "Author.objects.all()"
   ]
  },
  {
   "cell_type": "code",
   "execution_count": null,
   "id": "elementary-laundry",
   "metadata": {},
   "outputs": [],
   "source": [
    "Article.objects.create(title=\"چگونه میلیاردر شویم\", )"
   ]
  },
  {
   "cell_type": "code",
   "execution_count": null,
   "id": "coastal-watch",
   "metadata": {},
   "outputs": [],
   "source": [
    "print(Article.objects.get(title=\"ashkan\"))"
   ]
  },
  {
   "cell_type": "code",
   "execution_count": null,
   "id": "warming-night",
   "metadata": {},
   "outputs": [],
   "source": [
    "User.objects.filter(username=\"ashkan\").exists()"
   ]
  },
  {
   "cell_type": "code",
   "execution_count": null,
   "id": "broad-queensland",
   "metadata": {},
   "outputs": [],
   "source": [
    "Person.bachetehran.all()"
   ]
  },
  {
   "cell_type": "code",
   "execution_count": null,
   "id": "falling-austria",
   "metadata": {},
   "outputs": [],
   "source": [
    "person1 = Person(name=\"akbar\", age=12, frrom=\"shiraz\")"
   ]
  },
  {
   "cell_type": "code",
   "execution_count": null,
   "id": "fitted-gather",
   "metadata": {},
   "outputs": [],
   "source": [
    "person1.save()"
   ]
  },
  {
   "cell_type": "code",
   "execution_count": null,
   "id": "arctic-cycle",
   "metadata": {},
   "outputs": [],
   "source": [
    "person1.age = 15"
   ]
  },
  {
   "cell_type": "code",
   "execution_count": null,
   "id": "elementary-wallace",
   "metadata": {},
   "outputs": [],
   "source": [
    "person1.save()"
   ]
  },
  {
   "cell_type": "code",
   "execution_count": null,
   "id": "former-association",
   "metadata": {},
   "outputs": [],
   "source": [
    "person1.delete()"
   ]
  },
  {
   "cell_type": "code",
   "execution_count": null,
   "id": "hearing-channels",
   "metadata": {},
   "outputs": [],
   "source": [
    "Person.truncate()"
   ]
  },
  {
   "cell_type": "code",
   "execution_count": null,
   "id": "approved-wealth",
   "metadata": {},
   "outputs": [],
   "source": [
    "class A:\n",
    "    _a = 120\n",
    "    @classmethod\n",
    "    def a(cls):\n",
    "        print(cls._a)"
   ]
  },
  {
   "cell_type": "code",
   "execution_count": null,
   "id": "attended-canada",
   "metadata": {},
   "outputs": [],
   "source": [
    "a1 = A()"
   ]
  },
  {
   "cell_type": "code",
   "execution_count": null,
   "id": "basic-royalty",
   "metadata": {},
   "outputs": [],
   "source": [
    "a1.a()"
   ]
  },
  {
   "cell_type": "code",
   "execution_count": null,
   "id": "dressed-publisher",
   "metadata": {},
   "outputs": [],
   "source": [
    "A.objects.create(name=\"ashkan\", age=12, address=\"shiraz\")"
   ]
  },
  {
   "cell_type": "code",
   "execution_count": null,
   "id": "hazardous-exemption",
   "metadata": {},
   "outputs": [],
   "source": [
    "A.objects.create(name=\"asghar\", age=12,  address=\"shiraz\")"
   ]
  },
  {
   "cell_type": "code",
   "execution_count": null,
   "id": "fifteen-surface",
   "metadata": {},
   "outputs": [],
   "source": [
    "A.objects.all()[0].delete()"
   ]
  },
  {
   "cell_type": "code",
   "execution_count": null,
   "id": "dated-april",
   "metadata": {},
   "outputs": [],
   "source": [
    "from django.db.models import Q\n",
    "from django.contrib.auth.models import User"
   ]
  },
  {
   "cell_type": "code",
   "execution_count": null,
   "id": "varied-symphony",
   "metadata": {},
   "outputs": [],
   "source": [
    "queryset = User.objects.filter(Q(first_name__startswith='R') & ~Q(last_name__startswith='Z'))"
   ]
  },
  {
   "cell_type": "code",
   "execution_count": null,
   "id": "binary-danish",
   "metadata": {},
   "outputs": [],
   "source": [
    "print(queryset.query)"
   ]
  },
  {
   "cell_type": "code",
   "execution_count": null,
   "id": "improving-investigation",
   "metadata": {},
   "outputs": [],
   "source": [
    "a = Article.objects.all()[0]"
   ]
  },
  {
   "cell_type": "code",
   "execution_count": null,
   "id": "fuzzy-video",
   "metadata": {},
   "outputs": [],
   "source": [
    "a.refresh_from_db()"
   ]
  },
  {
   "cell_type": "code",
   "execution_count": null,
   "id": "contained-visiting",
   "metadata": {},
   "outputs": [],
   "source": [
    "a.context"
   ]
  },
  {
   "cell_type": "code",
   "execution_count": null,
   "id": "tracked-ireland",
   "metadata": {},
   "outputs": [],
   "source": [
    "q = Article.objects.all()"
   ]
  },
  {
   "cell_type": "code",
   "execution_count": null,
   "id": "fixed-valuation",
   "metadata": {},
   "outputs": [],
   "source": [
    "q[0].number_of_comments"
   ]
  },
  {
   "cell_type": "code",
   "execution_count": 2,
   "id": "amazing-plenty",
   "metadata": {},
   "outputs": [
    {
     "data": {
      "text/plain": [
       "{'seen_num__avg': 3.0}"
      ]
     },
     "execution_count": 2,
     "metadata": {},
     "output_type": "execute_result"
    }
   ],
   "source": [
    "from django.db.models import Max, Min, Sum, Avg, Count\n",
    "\n",
    "Article.objects.filter(title__startswith =\"hello\").aggregate(Avg('seen_num'))"
   ]
  },
  {
   "cell_type": "code",
   "execution_count": 8,
   "id": "bulgarian-installation",
   "metadata": {},
   "outputs": [
    {
     "name": "stdout",
     "output_type": "stream",
     "text": [
      "SELECT \"news_article\".\"id\", \"news_article\".\"title\", \"news_article\".\"author_id\", \"news_article\".\"date_pub\", \"news_article\".\"context\", \"news_article\".\"seen_num\", \"news_article\".\"slug\", AVG(\"news_comment\".\"rate\") AS \"rate_comment\" FROM \"news_article\" LEFT OUTER JOIN \"news_comment\" ON (\"news_article\".\"id\" = \"news_comment\".\"article_id\") GROUP BY \"news_article\".\"id\"\n"
     ]
    }
   ],
   "source": [
    "q = Article.objects.annotate(rate_comment=Avg('comment__rate'))\n",
    "print(q.query)"
   ]
  },
  {
   "cell_type": "code",
   "execution_count": 9,
   "id": "supposed-tournament",
   "metadata": {},
   "outputs": [
    {
     "name": "stdout",
     "output_type": "stream",
     "text": [
      "راه های رسیدن به خدا 5.0\n",
      "چگونه به جنگو مسلط شویم 2.3333333333333335\n",
      "hello ashkan None\n"
     ]
    }
   ],
   "source": [
    "for elm in q:\n",
    "    print(elm.title, elm.rate_comment)"
   ]
  },
  {
   "cell_type": "code",
   "execution_count": 5,
   "id": "neutral-fiction",
   "metadata": {},
   "outputs": [
    {
     "data": {
      "text/plain": [
       "<QuerySet [<Article: چگونه به جنگو مسلط شویم>, <Article: راه های رسیدن به خدا>, <Article: hello ashkan>, <Article: hello mehrdad>, <Article: bye if arian>]>"
      ]
     },
     "execution_count": 5,
     "metadata": {},
     "output_type": "execute_result"
    }
   ],
   "source": [
    "Article.objects.filter(author__nick_name__startswith=\"t\")"
   ]
  },
  {
   "cell_type": "code",
   "execution_count": 20,
   "id": "satellite-privilege",
   "metadata": {},
   "outputs": [
    {
     "data": {
      "text/plain": [
       "<QuerySet [<Article: چگونه به جنگو مسلط شویم>, <Article: راه های رسیدن به خدا>, <Article: hello ashkan>, <Article: hello mehrdad>, <Article: bye if arian>]>"
      ]
     },
     "execution_count": 20,
     "metadata": {},
     "output_type": "execute_result"
    }
   ],
   "source": [
    "qs = Article.objects.none()\n",
    "for elm in Author.objects.filter(nick_name__startswith=\"t\").prefetch_related('article_set'):\n",
    "    qs = qs | elm.article_set.all()\n",
    "qs"
   ]
  },
  {
   "cell_type": "code",
   "execution_count": 12,
   "id": "eligible-driving",
   "metadata": {},
   "outputs": [
    {
     "data": {
      "text/plain": [
       "{'nick_name': 'teghfo'}"
      ]
     },
     "execution_count": 12,
     "metadata": {},
     "output_type": "execute_result"
    }
   ],
   "source": []
  },
  {
   "cell_type": "code",
   "execution_count": null,
   "id": "athletic-manner",
   "metadata": {},
   "outputs": [],
   "source": []
  }
 ],
 "metadata": {
  "kernelspec": {
   "display_name": "Django Shell-Plus",
   "language": "python",
   "name": "django_extensions"
  },
  "language_info": {
   "codemirror_mode": {
    "name": "ipython",
    "version": 3
   },
   "file_extension": ".py",
   "mimetype": "text/x-python",
   "name": "python",
   "nbconvert_exporter": "python",
   "pygments_lexer": "ipython3",
   "version": "3.8.5"
  }
 },
 "nbformat": 4,
 "nbformat_minor": 5
}
